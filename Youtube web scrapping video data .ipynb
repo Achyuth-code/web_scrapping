{
 "cells": [
  {
   "cell_type": "code",
   "execution_count": 3,
   "id": "98defca1-cec5-4b1d-9431-d289146601fb",
   "metadata": {},
   "outputs": [],
   "source": [
    "import time\n",
    "import pandas as pd\n",
    "import numpy as np\n",
    "from tqdm import tqdm\n",
    "from bs4 import BeautifulSoup\n",
    "from selenium import webdriver\n",
    "import chromedriver_binary"
   ]
  },
  {
   "cell_type": "code",
   "execution_count": 5,
   "id": "85046552-453c-4dbf-b596-139721edc162",
   "metadata": {},
   "outputs": [],
   "source": [
    "df = pd.read_csv('videodata.csv')"
   ]
  },
  {
   "cell_type": "code",
   "execution_count": 7,
   "id": "1a86c524-63cb-4340-9f5d-fe47f9096ebf",
   "metadata": {},
   "outputs": [
    {
     "data": {
      "text/html": [
       "<div>\n",
       "<style scoped>\n",
       "    .dataframe tbody tr th:only-of-type {\n",
       "        vertical-align: middle;\n",
       "    }\n",
       "\n",
       "    .dataframe tbody tr th {\n",
       "        vertical-align: top;\n",
       "    }\n",
       "\n",
       "    .dataframe thead th {\n",
       "        text-align: right;\n",
       "    }\n",
       "</style>\n",
       "<table border=\"1\" class=\"dataframe\">\n",
       "  <thead>\n",
       "    <tr style=\"text-align: right;\">\n",
       "      <th></th>\n",
       "      <th>title</th>\n",
       "      <th>views</th>\n",
       "      <th>date_time</th>\n",
       "      <th>video_link</th>\n",
       "      <th>thumbnail_link</th>\n",
       "    </tr>\n",
       "  </thead>\n",
       "  <tbody>\n",
       "    <tr>\n",
       "      <th>0</th>\n",
       "      <td>Interview Experience @ Amazon | GeeksforGeeks</td>\n",
       "      <td>38 watching</td>\n",
       "      <td>NaN</td>\n",
       "      <td>/watch?v=SMgm_gpJyNU</td>\n",
       "      <td>https://i.ytimg.com/vi/SMgm_gpJyNU/hqdefault.jpg</td>\n",
       "    </tr>\n",
       "    <tr>\n",
       "      <th>1</th>\n",
       "      <td>Live Mock DSA</td>\n",
       "      <td>2.2K views</td>\n",
       "      <td>Streamed 1 day ago</td>\n",
       "      <td>/watch?v=mwqKJz7K03k</td>\n",
       "      <td>https://i.ytimg.com/vi/mwqKJz7K03k/hqdefault.jpg</td>\n",
       "    </tr>\n",
       "    <tr>\n",
       "      <th>2</th>\n",
       "      <td>Interview Experience at Google | Tech Dose</td>\n",
       "      <td>5.2K views</td>\n",
       "      <td>Streamed 4 days ago</td>\n",
       "      <td>/watch?v=V23iPYIQCvc</td>\n",
       "      <td>https://i.ytimg.com/vi/V23iPYIQCvc/hqdefault.jpg</td>\n",
       "    </tr>\n",
       "    <tr>\n",
       "      <th>3</th>\n",
       "      <td>Life Is Unfair Ft. Shonty badmash | LIVE Disco...</td>\n",
       "      <td>1.5K views</td>\n",
       "      <td>9 days ago</td>\n",
       "      <td>/watch?v=49MRLvZaG3s</td>\n",
       "      <td>https://i.ytimg.com/vi/49MRLvZaG3s/hqdefault.jpg</td>\n",
       "    </tr>\n",
       "    <tr>\n",
       "      <th>4</th>\n",
       "      <td>Journey from JIIT to Adobe</td>\n",
       "      <td>1K views</td>\n",
       "      <td>9 days ago</td>\n",
       "      <td>/watch?v=9CswKbEqj5A</td>\n",
       "      <td>https://i.ytimg.com/vi/9CswKbEqj5A/hqdefault.jpg</td>\n",
       "    </tr>\n",
       "  </tbody>\n",
       "</table>\n",
       "</div>"
      ],
      "text/plain": [
       "                                               title        views  \\\n",
       "0      Interview Experience @ Amazon | GeeksforGeeks  38 watching   \n",
       "1                                      Live Mock DSA   2.2K views   \n",
       "2         Interview Experience at Google | Tech Dose   5.2K views   \n",
       "3  Life Is Unfair Ft. Shonty badmash | LIVE Disco...   1.5K views   \n",
       "4                         Journey from JIIT to Adobe     1K views   \n",
       "\n",
       "             date_time            video_link  \\\n",
       "0                  NaN  /watch?v=SMgm_gpJyNU   \n",
       "1   Streamed 1 day ago  /watch?v=mwqKJz7K03k   \n",
       "2  Streamed 4 days ago  /watch?v=V23iPYIQCvc   \n",
       "3           9 days ago  /watch?v=49MRLvZaG3s   \n",
       "4           9 days ago  /watch?v=9CswKbEqj5A   \n",
       "\n",
       "                                     thumbnail_link  \n",
       "0  https://i.ytimg.com/vi/SMgm_gpJyNU/hqdefault.jpg  \n",
       "1  https://i.ytimg.com/vi/mwqKJz7K03k/hqdefault.jpg  \n",
       "2  https://i.ytimg.com/vi/V23iPYIQCvc/hqdefault.jpg  \n",
       "3  https://i.ytimg.com/vi/49MRLvZaG3s/hqdefault.jpg  \n",
       "4  https://i.ytimg.com/vi/9CswKbEqj5A/hqdefault.jpg  "
      ]
     },
     "execution_count": 7,
     "metadata": {},
     "output_type": "execute_result"
    }
   ],
   "source": [
    "df.head()"
   ]
  },
  {
   "cell_type": "code",
   "execution_count": null,
   "id": "acd1aec5-4c02-45ac-bc97-b7463dab511f",
   "metadata": {},
   "outputs": [
    {
     "name": "stderr",
     "output_type": "stream",
     "text": [
      "  1%|▌                                                                             | 15/2105 [02:08<5:01:18,  8.65s/it]"
     ]
    }
   ],
   "source": [
    "browser = webdriver.Edge()\n",
    "browser.get('https://www.youtube.com')\n",
    "time.sleep(2)\n",
    "data = []\n",
    "for link in tqdm(df['video_link']):\n",
    "    link = 'https://www.youtube.com'+link\n",
    "    browser.get(link)\n",
    "    time.sleep(5)\n",
    "    soup = BeautifulSoup(browser.page_source,'html.parser')\n",
    "    try:\n",
    "        title = soup.find_all('yt-formatted-string',class_ = 'style-scope ytd-video-primary-info-renderer')[0].text\n",
    "    except:\n",
    "        title = np.nan\n",
    "    try:\n",
    "        view = soup.find('span',class_ = 'view-count style-scope ytd-video-view-count-renderer').text\n",
    "    except:\n",
    "        view = np.nan\n",
    "    try:\n",
    "        date_time = soup.find_all('yt-formatted-string', class_= 'style-scope ytd-video-primary-info-renderer')[1].text\n",
    "    except:\n",
    "        date_time = np.nan\n",
    "    try:\n",
    "        like = soup.find('yt-formatted-string', class_= 'style-scope ytd-toggle-button-renderer style-text').text\n",
    "    except:\n",
    "        like = np.nan\n",
    "    try:\n",
    "        description = soup.find('yt-formatted-string',class_ = 'content style-scope ytd-video-secondary-info-renderer').text\n",
    "    except:\n",
    "        description = np.nan\n",
    "    data.append([title, date_time, like, view, link, description])"
   ]
  },
  {
   "cell_type": "code",
   "execution_count": null,
   "id": "c89f26b2-c937-48f1-b05f-539a62bc657b",
   "metadata": {},
   "outputs": [],
   "source": [
    "len(data)"
   ]
  },
  {
   "cell_type": "code",
   "execution_count": null,
   "id": "80df03a8-718e-4b7a-a1c3-42853338506d",
   "metadata": {},
   "outputs": [],
   "source": [
    "df = pd.DataFrame(data, columns = ['title', 'date_time', 'like', 'view', 'link', 'description'])"
   ]
  },
  {
   "cell_type": "code",
   "execution_count": null,
   "id": "1b5f9296-8226-46ed-8be9-1db2a22358e1",
   "metadata": {},
   "outputs": [],
   "source": [
    "df.isnull().sum()"
   ]
  },
  {
   "cell_type": "code",
   "execution_count": null,
   "id": "e469fea6-2bc7-42bb-9e85-01a67f67e648",
   "metadata": {},
   "outputs": [],
   "source": [
    "df.to_csv('GFG.csv', index = False)"
   ]
  },
  {
   "cell_type": "code",
   "execution_count": null,
   "id": "3acf361d-85ad-4e5a-9cd8-e053313523d7",
   "metadata": {},
   "outputs": [],
   "source": [
    "df"
   ]
  }
 ],
 "metadata": {
  "kernelspec": {
   "display_name": "Python 3 (ipykernel)",
   "language": "python",
   "name": "python3"
  },
  "language_info": {
   "codemirror_mode": {
    "name": "ipython",
    "version": 3
   },
   "file_extension": ".py",
   "mimetype": "text/x-python",
   "name": "python",
   "nbconvert_exporter": "python",
   "pygments_lexer": "ipython3",
   "version": "3.11.7"
  }
 },
 "nbformat": 4,
 "nbformat_minor": 5
}
