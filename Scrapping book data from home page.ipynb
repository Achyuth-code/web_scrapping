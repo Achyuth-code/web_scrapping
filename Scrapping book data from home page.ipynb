{
 "cells": [
  {
   "cell_type": "code",
   "execution_count": 1,
   "id": "70945fbf-5fea-4280-a744-514c0d7f58c8",
   "metadata": {},
   "outputs": [],
   "source": [
    "import requests\n",
    "from bs4 import BeautifulSoup\n",
    "\n",
    "link = 'https://books.toscrape.com/catalogue/page-1.html'"
   ]
  },
  {
   "cell_type": "code",
   "execution_count": 5,
   "id": "e615eed4-b3b6-4ee6-b1fb-4e27bc73ccfa",
   "metadata": {},
   "outputs": [],
   "source": [
    "res = requests.get(link)\n",
    "\n",
    "soup = BeautifulSoup(res.text,'html.parser')"
   ]
  },
  {
   "cell_type": "code",
   "execution_count": 11,
   "id": "12b1d030-59c9-4b10-9259-f3af45527a5f",
   "metadata": {},
   "outputs": [],
   "source": [
    "data = []\n",
    "\n",
    "for sp in soup.find_all('li', class_= 'col-xs-6 col-sm-4 col-md-3 col-lg-3'):\n",
    "        \n",
    "    img_link   = 'https://books.toscrape.com/' + sp.find('img').get('src')[3:]\n",
    "    book_link  = 'https://books.toscrape.com/catalogue/' + sp.find_all('a')[-1].get('href')\n",
    "    title      = sp.find_all('a')[-1].get('title')\n",
    "    rating     = sp.find('p').get('class')[-1]\n",
    "    price      = sp.find('p',class_ = 'price_color').text[2:]\n",
    "    stock      = sp.find('p', class_ = 'instock availability').text.strip()\n",
    "    \n",
    "    \n",
    "    data.append([title, rating, price, stock, book_link, img_link])"
   ]
  },
  {
   "cell_type": "code",
   "execution_count": 13,
   "id": "215b79da-901a-452b-b611-9a85a37ffc50",
   "metadata": {},
   "outputs": [
    {
     "data": {
      "text/plain": [
       "[['A Light in the Attic',\n",
       "  'Three',\n",
       "  '51.77',\n",
       "  'In stock',\n",
       "  'https://books.toscrape.com/catalogue/a-light-in-the-attic_1000/index.html',\n",
       "  'https://books.toscrape.com/media/cache/2c/da/2cdad67c44b002e7ead0cc35693c0e8b.jpg'],\n",
       " ['Tipping the Velvet',\n",
       "  'One',\n",
       "  '53.74',\n",
       "  'In stock',\n",
       "  'https://books.toscrape.com/catalogue/tipping-the-velvet_999/index.html',\n",
       "  'https://books.toscrape.com/media/cache/26/0c/260c6ae16bce31c8f8c95daddd9f4a1c.jpg'],\n",
       " ['Soumission',\n",
       "  'One',\n",
       "  '50.10',\n",
       "  'In stock',\n",
       "  'https://books.toscrape.com/catalogue/soumission_998/index.html',\n",
       "  'https://books.toscrape.com/media/cache/3e/ef/3eef99c9d9adef34639f510662022830.jpg'],\n",
       " ['Sharp Objects',\n",
       "  'Four',\n",
       "  '47.82',\n",
       "  'In stock',\n",
       "  'https://books.toscrape.com/catalogue/sharp-objects_997/index.html',\n",
       "  'https://books.toscrape.com/media/cache/32/51/3251cf3a3412f53f339e42cac2134093.jpg'],\n",
       " ['Sapiens: A Brief History of Humankind',\n",
       "  'Five',\n",
       "  '54.23',\n",
       "  'In stock',\n",
       "  'https://books.toscrape.com/catalogue/sapiens-a-brief-history-of-humankind_996/index.html',\n",
       "  'https://books.toscrape.com/media/cache/be/a5/bea5697f2534a2f86a3ef27b5a8c12a6.jpg'],\n",
       " ['The Requiem Red',\n",
       "  'One',\n",
       "  '22.65',\n",
       "  'In stock',\n",
       "  'https://books.toscrape.com/catalogue/the-requiem-red_995/index.html',\n",
       "  'https://books.toscrape.com/media/cache/68/33/68339b4c9bc034267e1da611ab3b34f8.jpg'],\n",
       " ['The Dirty Little Secrets of Getting Your Dream Job',\n",
       "  'Four',\n",
       "  '33.34',\n",
       "  'In stock',\n",
       "  'https://books.toscrape.com/catalogue/the-dirty-little-secrets-of-getting-your-dream-job_994/index.html',\n",
       "  'https://books.toscrape.com/media/cache/92/27/92274a95b7c251fea59a2b8a78275ab4.jpg'],\n",
       " ['The Coming Woman: A Novel Based on the Life of the Infamous Feminist, Victoria Woodhull',\n",
       "  'Three',\n",
       "  '17.93',\n",
       "  'In stock',\n",
       "  'https://books.toscrape.com/catalogue/the-coming-woman-a-novel-based-on-the-life-of-the-infamous-feminist-victoria-woodhull_993/index.html',\n",
       "  'https://books.toscrape.com/media/cache/3d/54/3d54940e57e662c4dd1f3ff00c78cc64.jpg'],\n",
       " ['The Boys in the Boat: Nine Americans and Their Epic Quest for Gold at the 1936 Berlin Olympics',\n",
       "  'Four',\n",
       "  '22.60',\n",
       "  'In stock',\n",
       "  'https://books.toscrape.com/catalogue/the-boys-in-the-boat-nine-americans-and-their-epic-quest-for-gold-at-the-1936-berlin-olympics_992/index.html',\n",
       "  'https://books.toscrape.com/media/cache/66/88/66883b91f6804b2323c8369331cb7dd1.jpg'],\n",
       " ['The Black Maria',\n",
       "  'One',\n",
       "  '52.15',\n",
       "  'In stock',\n",
       "  'https://books.toscrape.com/catalogue/the-black-maria_991/index.html',\n",
       "  'https://books.toscrape.com/media/cache/58/46/5846057e28022268153beff6d352b06c.jpg'],\n",
       " ['Starving Hearts (Triangular Trade Trilogy, #1)',\n",
       "  'Two',\n",
       "  '13.99',\n",
       "  'In stock',\n",
       "  'https://books.toscrape.com/catalogue/starving-hearts-triangular-trade-trilogy-1_990/index.html',\n",
       "  'https://books.toscrape.com/media/cache/be/f4/bef44da28c98f905a3ebec0b87be8530.jpg'],\n",
       " [\"Shakespeare's Sonnets\",\n",
       "  'Four',\n",
       "  '20.66',\n",
       "  'In stock',\n",
       "  'https://books.toscrape.com/catalogue/shakespeares-sonnets_989/index.html',\n",
       "  'https://books.toscrape.com/media/cache/10/48/1048f63d3b5061cd2f424d20b3f9b666.jpg'],\n",
       " ['Set Me Free',\n",
       "  'Five',\n",
       "  '17.46',\n",
       "  'In stock',\n",
       "  'https://books.toscrape.com/catalogue/set-me-free_988/index.html',\n",
       "  'https://books.toscrape.com/media/cache/5b/88/5b88c52633f53cacf162c15f4f823153.jpg'],\n",
       " [\"Scott Pilgrim's Precious Little Life (Scott Pilgrim #1)\",\n",
       "  'Five',\n",
       "  '52.29',\n",
       "  'In stock',\n",
       "  'https://books.toscrape.com/catalogue/scott-pilgrims-precious-little-life-scott-pilgrim-1_987/index.html',\n",
       "  'https://books.toscrape.com/media/cache/94/b1/94b1b8b244bce9677c2f29ccc890d4d2.jpg'],\n",
       " ['Rip it Up and Start Again',\n",
       "  'Five',\n",
       "  '35.02',\n",
       "  'In stock',\n",
       "  'https://books.toscrape.com/catalogue/rip-it-up-and-start-again_986/index.html',\n",
       "  'https://books.toscrape.com/media/cache/81/c4/81c4a973364e17d01f217e1188253d5e.jpg'],\n",
       " ['Our Band Could Be Your Life: Scenes from the American Indie Underground, 1981-1991',\n",
       "  'Three',\n",
       "  '57.25',\n",
       "  'In stock',\n",
       "  'https://books.toscrape.com/catalogue/our-band-could-be-your-life-scenes-from-the-american-indie-underground-1981-1991_985/index.html',\n",
       "  'https://books.toscrape.com/media/cache/54/60/54607fe8945897cdcced0044103b10b6.jpg'],\n",
       " ['Olio',\n",
       "  'One',\n",
       "  '23.88',\n",
       "  'In stock',\n",
       "  'https://books.toscrape.com/catalogue/olio_984/index.html',\n",
       "  'https://books.toscrape.com/media/cache/55/33/553310a7162dfbc2c6d19a84da0df9e1.jpg'],\n",
       " ['Mesaerion: The Best Science Fiction Stories 1800-1849',\n",
       "  'One',\n",
       "  '37.59',\n",
       "  'In stock',\n",
       "  'https://books.toscrape.com/catalogue/mesaerion-the-best-science-fiction-stories-1800-1849_983/index.html',\n",
       "  'https://books.toscrape.com/media/cache/09/a3/09a3aef48557576e1a85ba7efea8ecb7.jpg'],\n",
       " ['Libertarianism for Beginners',\n",
       "  'Two',\n",
       "  '51.33',\n",
       "  'In stock',\n",
       "  'https://books.toscrape.com/catalogue/libertarianism-for-beginners_982/index.html',\n",
       "  'https://books.toscrape.com/media/cache/0b/bc/0bbcd0a6f4bcd81ccb1049a52736406e.jpg'],\n",
       " [\"It's Only the Himalayas\",\n",
       "  'Two',\n",
       "  '45.17',\n",
       "  'In stock',\n",
       "  'https://books.toscrape.com/catalogue/its-only-the-himalayas_981/index.html',\n",
       "  'https://books.toscrape.com/media/cache/27/a5/27a53d0bb95bdd88288eaf66c9230d7e.jpg']]"
      ]
     },
     "execution_count": 13,
     "metadata": {},
     "output_type": "execute_result"
    }
   ],
   "source": [
    "data"
   ]
  },
  {
   "cell_type": "code",
   "execution_count": 15,
   "id": "974b2d36-de97-4e13-ae7b-dee8b1d93775",
   "metadata": {},
   "outputs": [
    {
     "data": {
      "text/plain": [
       "20"
      ]
     },
     "execution_count": 15,
     "metadata": {},
     "output_type": "execute_result"
    }
   ],
   "source": [
    "len(data)"
   ]
  },
  {
   "cell_type": "code",
   "execution_count": null,
   "id": "8a2771ad-9c53-4118-bb1e-360d60b9309f",
   "metadata": {},
   "outputs": [],
   "source": []
  }
 ],
 "metadata": {
  "kernelspec": {
   "display_name": "Python 3 (ipykernel)",
   "language": "python",
   "name": "python3"
  },
  "language_info": {
   "codemirror_mode": {
    "name": "ipython",
    "version": 3
   },
   "file_extension": ".py",
   "mimetype": "text/x-python",
   "name": "python",
   "nbconvert_exporter": "python",
   "pygments_lexer": "ipython3",
   "version": "3.11.7"
  }
 },
 "nbformat": 4,
 "nbformat_minor": 5
}
