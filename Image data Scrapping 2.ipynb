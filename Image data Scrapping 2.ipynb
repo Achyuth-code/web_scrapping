{
 "cells": [
  {
   "cell_type": "code",
   "execution_count": 1,
   "id": "2e45a53c-e666-4c34-b887-89452e5d078c",
   "metadata": {},
   "outputs": [
    {
     "data": {
      "text/html": [
       "<div>\n",
       "<style scoped>\n",
       "    .dataframe tbody tr th:only-of-type {\n",
       "        vertical-align: middle;\n",
       "    }\n",
       "\n",
       "    .dataframe tbody tr th {\n",
       "        vertical-align: top;\n",
       "    }\n",
       "\n",
       "    .dataframe thead th {\n",
       "        text-align: right;\n",
       "    }\n",
       "</style>\n",
       "<table border=\"1\" class=\"dataframe\">\n",
       "  <thead>\n",
       "    <tr style=\"text-align: right;\">\n",
       "      <th></th>\n",
       "      <th>link</th>\n",
       "      <th>tags</th>\n",
       "      <th>likes</th>\n",
       "      <th>comments</th>\n",
       "    </tr>\n",
       "  </thead>\n",
       "  <tbody>\n",
       "    <tr>\n",
       "      <th>0</th>\n",
       "      <td>https://cdn.pixabay.com/photo/2022/03/06/05/30...</td>\n",
       "      <td>Atmosphere, Sky Sky, Blue Clouds,</td>\n",
       "      <td>196</td>\n",
       "      <td>55</td>\n",
       "    </tr>\n",
       "    <tr>\n",
       "      <th>1</th>\n",
       "      <td>https://cdn.pixabay.com/photo/2022/04/07/11/45...</td>\n",
       "      <td>Hummingbird Bird, Ornithology,</td>\n",
       "      <td>76</td>\n",
       "      <td>20</td>\n",
       "    </tr>\n",
       "    <tr>\n",
       "      <th>2</th>\n",
       "      <td>https://cdn.pixabay.com/photo/2022/02/28/15/28...</td>\n",
       "      <td>Rainfall, Rainbow, Subtropical Sea,</td>\n",
       "      <td>282</td>\n",
       "      <td>106</td>\n",
       "    </tr>\n",
       "    <tr>\n",
       "      <th>3</th>\n",
       "      <td>https://cdn.pixabay.com/photo/2022/04/04/02/52...</td>\n",
       "      <td>Cherry Japan, Blossoms, Road, Sakura</td>\n",
       "      <td>42</td>\n",
       "      <td>11</td>\n",
       "    </tr>\n",
       "    <tr>\n",
       "      <th>4</th>\n",
       "      <td>https://cdn.pixabay.com/photo/2022/04/09/18/06...</td>\n",
       "      <td>Cape Marguerite, Flower, Plant</td>\n",
       "      <td>39</td>\n",
       "      <td>15</td>\n",
       "    </tr>\n",
       "  </tbody>\n",
       "</table>\n",
       "</div>"
      ],
      "text/plain": [
       "                                                link  \\\n",
       "0  https://cdn.pixabay.com/photo/2022/03/06/05/30...   \n",
       "1  https://cdn.pixabay.com/photo/2022/04/07/11/45...   \n",
       "2  https://cdn.pixabay.com/photo/2022/02/28/15/28...   \n",
       "3  https://cdn.pixabay.com/photo/2022/04/04/02/52...   \n",
       "4  https://cdn.pixabay.com/photo/2022/04/09/18/06...   \n",
       "\n",
       "                                   tags  likes  comments  \n",
       "0     Atmosphere, Sky Sky, Blue Clouds,    196        55  \n",
       "1        Hummingbird Bird, Ornithology,     76        20  \n",
       "2   Rainfall, Rainbow, Subtropical Sea,    282       106  \n",
       "3  Cherry Japan, Blossoms, Road, Sakura     42        11  \n",
       "4        Cape Marguerite, Flower, Plant     39        15  "
      ]
     },
     "execution_count": 1,
     "metadata": {},
     "output_type": "execute_result"
    }
   ],
   "source": [
    "import requests\n",
    "import pandas as pd\n",
    "from tqdm import tqdm\n",
    "\n",
    "link = 'https://stock-pictures.netlify.app/'\n",
    "df = pd.read_csv('imagedata.csv')\n",
    "df.head()"
   ]
  },
  {
   "cell_type": "code",
   "execution_count": 2,
   "id": "9ab423ef-8e4b-4a1d-b9eb-2fe69c889ab9",
   "metadata": {},
   "outputs": [],
   "source": [
    "link = df['link'][0]\n",
    "res = requests.get(link)"
   ]
  },
  {
   "cell_type": "code",
   "execution_count": 3,
   "id": "feee0785-1d58-4ff7-9cd2-4dcdf580675e",
   "metadata": {},
   "outputs": [],
   "source": [
    "fd = open('Img.png','wb')\n",
    "fd.write(res.content)\n",
    "fd.close()"
   ]
  },
  {
   "cell_type": "code",
   "execution_count": 4,
   "id": "14fc1aa1-02cc-4855-8545-ffe22a58270e",
   "metadata": {},
   "outputs": [
    {
     "name": "stderr",
     "output_type": "stream",
     "text": [
      "100%|██████████████████████████████████████████████████████████████████████████████████| 48/48 [00:28<00:00,  1.67it/s]\n"
     ]
    }
   ],
   "source": [
    "path = []\n",
    "\n",
    "for link in tqdm(df['link']):\n",
    "    \n",
    "    res = requests.get(link)\n",
    "    \n",
    "    fd = open('Imgs/'+link.split('/')[-1],'wb')\n",
    "    fd.write(res.content)\n",
    "    fd.close()\n",
    "    \n",
    "    path.append('Imgs/'+link.split('/')[-1])"
   ]
  },
  {
   "cell_type": "code",
   "execution_count": 5,
   "id": "f2d58be8-40de-4d16-8429-48b1937526fb",
   "metadata": {},
   "outputs": [
    {
     "data": {
      "text/html": [
       "<div>\n",
       "<style scoped>\n",
       "    .dataframe tbody tr th:only-of-type {\n",
       "        vertical-align: middle;\n",
       "    }\n",
       "\n",
       "    .dataframe tbody tr th {\n",
       "        vertical-align: top;\n",
       "    }\n",
       "\n",
       "    .dataframe thead th {\n",
       "        text-align: right;\n",
       "    }\n",
       "</style>\n",
       "<table border=\"1\" class=\"dataframe\">\n",
       "  <thead>\n",
       "    <tr style=\"text-align: right;\">\n",
       "      <th></th>\n",
       "      <th>link</th>\n",
       "      <th>tags</th>\n",
       "      <th>likes</th>\n",
       "      <th>comments</th>\n",
       "      <th>path</th>\n",
       "    </tr>\n",
       "  </thead>\n",
       "  <tbody>\n",
       "    <tr>\n",
       "      <th>0</th>\n",
       "      <td>https://cdn.pixabay.com/photo/2022/03/06/05/30...</td>\n",
       "      <td>Atmosphere, Sky Sky, Blue Clouds,</td>\n",
       "      <td>196</td>\n",
       "      <td>55</td>\n",
       "      <td>Imgs/clouds-7050884__480.jpg</td>\n",
       "    </tr>\n",
       "    <tr>\n",
       "      <th>1</th>\n",
       "      <td>https://cdn.pixabay.com/photo/2022/04/07/11/45...</td>\n",
       "      <td>Hummingbird Bird, Ornithology,</td>\n",
       "      <td>76</td>\n",
       "      <td>20</td>\n",
       "      <td>Imgs/bird-7117346__340.jpg</td>\n",
       "    </tr>\n",
       "    <tr>\n",
       "      <th>2</th>\n",
       "      <td>https://cdn.pixabay.com/photo/2022/02/28/15/28...</td>\n",
       "      <td>Rainfall, Rainbow, Subtropical Sea,</td>\n",
       "      <td>282</td>\n",
       "      <td>106</td>\n",
       "      <td>Imgs/sea-7039471__340.jpg</td>\n",
       "    </tr>\n",
       "    <tr>\n",
       "      <th>3</th>\n",
       "      <td>https://cdn.pixabay.com/photo/2022/04/04/02/52...</td>\n",
       "      <td>Cherry Japan, Blossoms, Road, Sakura</td>\n",
       "      <td>42</td>\n",
       "      <td>11</td>\n",
       "      <td>Imgs/cherry-blossoms-7110279__340.jpg</td>\n",
       "    </tr>\n",
       "    <tr>\n",
       "      <th>4</th>\n",
       "      <td>https://cdn.pixabay.com/photo/2022/04/09/18/06...</td>\n",
       "      <td>Cape Marguerite, Flower, Plant</td>\n",
       "      <td>39</td>\n",
       "      <td>15</td>\n",
       "      <td>Imgs/cape-marguerite-7121992__340.jpg</td>\n",
       "    </tr>\n",
       "  </tbody>\n",
       "</table>\n",
       "</div>"
      ],
      "text/plain": [
       "                                                link  \\\n",
       "0  https://cdn.pixabay.com/photo/2022/03/06/05/30...   \n",
       "1  https://cdn.pixabay.com/photo/2022/04/07/11/45...   \n",
       "2  https://cdn.pixabay.com/photo/2022/02/28/15/28...   \n",
       "3  https://cdn.pixabay.com/photo/2022/04/04/02/52...   \n",
       "4  https://cdn.pixabay.com/photo/2022/04/09/18/06...   \n",
       "\n",
       "                                   tags  likes  comments  \\\n",
       "0     Atmosphere, Sky Sky, Blue Clouds,    196        55   \n",
       "1        Hummingbird Bird, Ornithology,     76        20   \n",
       "2   Rainfall, Rainbow, Subtropical Sea,    282       106   \n",
       "3  Cherry Japan, Blossoms, Road, Sakura     42        11   \n",
       "4        Cape Marguerite, Flower, Plant     39        15   \n",
       "\n",
       "                                    path  \n",
       "0           Imgs/clouds-7050884__480.jpg  \n",
       "1             Imgs/bird-7117346__340.jpg  \n",
       "2              Imgs/sea-7039471__340.jpg  \n",
       "3  Imgs/cherry-blossoms-7110279__340.jpg  \n",
       "4  Imgs/cape-marguerite-7121992__340.jpg  "
      ]
     },
     "execution_count": 5,
     "metadata": {},
     "output_type": "execute_result"
    }
   ],
   "source": [
    "df['path'] = path\n",
    "df.head()"
   ]
  },
  {
   "cell_type": "code",
   "execution_count": 6,
   "id": "0efcb581-619f-4dab-b1f0-746dc771c5a0",
   "metadata": {},
   "outputs": [],
   "source": [
    "df.to_csv('Imgs.csv', index = False)"
   ]
  },
  {
   "cell_type": "code",
   "execution_count": null,
   "id": "13fe9920-2836-47c9-a2c6-d89bcb805728",
   "metadata": {},
   "outputs": [],
   "source": []
  }
 ],
 "metadata": {
  "kernelspec": {
   "display_name": "Python 3 (ipykernel)",
   "language": "python",
   "name": "python3"
  },
  "language_info": {
   "codemirror_mode": {
    "name": "ipython",
    "version": 3
   },
   "file_extension": ".py",
   "mimetype": "text/x-python",
   "name": "python",
   "nbconvert_exporter": "python",
   "pygments_lexer": "ipython3",
   "version": "3.11.7"
  }
 },
 "nbformat": 4,
 "nbformat_minor": 5
}
